{
  "nbformat": 4,
  "nbformat_minor": 0,
  "metadata": {
    "colab": {
      "provenance": []
    },
    "kernelspec": {
      "name": "python3",
      "display_name": "Python 3"
    },
    "language_info": {
      "name": "python"
    }
  },
  "cells": [
    {
      "cell_type": "markdown",
      "source": [
        "Project:\n",
        "**Library Management System**\n",
        "\n",
        "This Library Management System allows a librarian to manage books, add or remove books, track borrowed books, and manage borrowers."
      ],
      "metadata": {
        "id": "zcw_J0j3kXJ-"
      }
    },
    {
      "cell_type": "code",
      "source": [
        "#First, after identifying the problem statement, we need to have understanding of how the library works.\n",
        "#Library will mainly have three main things :\n",
        "# Library ( Where all the books,members records are maintained, to add,remove,lend books, track available status of the books),\n",
        "# Books ( Books Author, Name, Availability Status, No of Books)\n",
        "# Members (Name of the Member, Borrowed Book Name, Date of the book borrowed, Return Date , Is the book returned )"
      ],
      "metadata": {
        "id": "Tpi3g6D8kgz5"
      },
      "execution_count": null,
      "outputs": []
    },
    {
      "cell_type": "code",
      "source": [
        "#class Book\n",
        "\n",
        "class Book:\n",
        "    def __init__(self,title,author)\n",
        "        self.title = title\n",
        "        self.author = author\n",
        "        self.is_borrowed = False # default no book is borrowed\n",
        "\n",
        "    def borrow(self):# to borrow the book\n",
        "        if not self.is_borrowed:# borrowed Book\n",
        "            self.is_borrowed = True\n",
        "            return True\n",
        "        return False\n",
        "\n",
        "\n",
        "    def return_book(self):#to return book\n",
        "        self.is_borrowed = False\n",
        "\n",
        "    def __str__(self):#available status\n",
        "        if self.is_borrowed == True:\n",
        "            status = 'Borrowed'\n",
        "        else:\n",
        "            status = 'Available'\n",
        "        return f\"{self.title} by {self.author} is {status}\""
      ],
      "metadata": {
        "id": "hxGUIzgy4POC"
      },
      "execution_count": null,
      "outputs": []
    },
    {
      "cell_type": "code",
      "source": [
        "#Class Member\n",
        "class Member:\n",
        "    #defning attributes\n",
        "    def __init__(self,Name):\n",
        "        self.Name = Name\n",
        "        self.Borrowed_Book = [] #defualt borrowed Book list is empty\n",
        "\n",
        "    def borrow_book(self,book):\n",
        "        if Book.borrow():\n",
        "            self.Borrowed_Book.append(book)\n",
        "            print(f\"{self.name} has borrowed {book.title}\")\n",
        "        else:\n",
        "            print(f\"{book.title} is currently unavailable\")\n",
        "\n",
        "    def return_book(self,book):\n",
        "        if book in self.Borrowed_book:\n",
        "            Book.return_book()\n",
        "            print(f\"{self.Name} has return the book named {self.title}\")\n",
        "        else:\n",
        "            print(f\"{self.name} did not borrow {book.title}.\")\n",
        "\n",
        "    def __str__(self):\n",
        "        print(f\"{self.Name}\")\n",
        "        for book in self.Borrowed_book:\n",
        "            return book.title\n"
      ],
      "metadata": {
        "id": "sfIp5Wcp4HHm"
      },
      "execution_count": null,
      "outputs": []
    },
    {
      "cell_type": "code",
      "source": [
        "# class Library\n",
        "class Library:\n",
        "    #define attributes\n",
        "    def __init__(self, Name):\n",
        "        self.Name = Name\n",
        "        self.books = []\n",
        "        self.members = []\n",
        "    #add_book\n",
        "    def add_book(self,book):\n",
        "        self.books.append(book)\n",
        "        print(f\"{book.title} added to the library\")\n",
        "\n",
        "    #remove_book\n",
        "    def remove_book(self,book):\n",
        "        self.books.remove(book)\n",
        "        print(f\"{book.title} removed from the library\")\n",
        "\n",
        "    #lend_book\n",
        "    def lend_book(self,book_title,member):\n",
        "        if book_title == Book.title and\n",
        "    #register_member\n",
        "    #de-register_member\n",
        "    #display_books\n",
        "    #diaplay_members with borrowed_books"
      ],
      "metadata": {
        "id": "VmwrxiiW9jMR"
      },
      "execution_count": null,
      "outputs": []
    },
    {
      "cell_type": "code",
      "source": [
        "class Library:\n",
        "    def __init__(self, name):\n",
        "        self.name = name\n",
        "        self.books = []\n",
        "        self.members = []\n",
        "\n",
        "    def add_book(self, book):\n",
        "        self.books.append(book)\n",
        "        print(f\"{book.title} added to the library.\")\n",
        "\n",
        "    def remove_book(self, book):\n",
        "        if book in self.books:\n",
        "            self.books.remove(book)\n",
        "            print(f\"{book.title} removed from the library.\")\n",
        "        else:\n",
        "            print(f\"{book.title} not found in the library.\")\n",
        "\n",
        "    def display_books(self):\n",
        "        print(f\"\\nBooks available in {self.name}:\")\n",
        "        for book in self.books:\n",
        "            print(book)\n",
        "\n",
        "    def register_member(self, member):\n",
        "        self.members.append(member)\n",
        "        print(f\"{member.name} is now a member of the library.\")\n",
        "\n",
        "    def lend_book(self, book_title, member):\n",
        "        for book in self.books:\n",
        "            if book.title == book_title and not book.is_borrowed:\n",
        "                member.borrow_book(book)\n",
        "                return\n",
        "        print(f\"{book_title} is either not available or currently borrowed.\")\n",
        "\n",
        "    def accept_return(self, book_title, member):\n",
        "        for book in member.borrowed_books:\n",
        "            if book.title == book_title:\n",
        "                member.return_book(book)\n",
        "                return\n",
        "        print(f\"{member.name} does not have {book_title}.\")\n"
      ],
      "metadata": {
        "id": "Q6eNpHGpWJX0"
      },
      "execution_count": null,
      "outputs": []
    },
    {
      "cell_type": "code",
      "source": [
        "#Examples\n"
      ],
      "metadata": {
        "id": "MKW7YAn4YnrZ"
      },
      "execution_count": null,
      "outputs": []
    }
  ]
}